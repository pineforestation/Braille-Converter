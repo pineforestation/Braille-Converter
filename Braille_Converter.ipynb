{
 "cells": [
  {
   "cell_type": "markdown",
   "metadata": {},
   "source": [
    "Loading the necessary libraries"
   ]
  },
  {
   "cell_type": "code",
   "execution_count": null,
   "metadata": {},
   "outputs": [],
   "source": [
    "import tkinter as tk\n",
    "from PIL import Image, ImageTk\n",
    "import cv2\n",
    "import pytesseract\n",
    "import time"
   ]
  },
  {
   "cell_type": "markdown",
   "metadata": {},
   "source": [
    "Defining the braille shapes for each letter/number/space"
   ]
  },
  {
   "cell_type": "code",
   "execution_count": null,
   "metadata": {},
   "outputs": [],
   "source": [
    "# Braille dictionary mapping each letter to its Braille representation\n",
    "braille_dict = {\n",
    "    'a': '100000',\n",
    "    'b': '101000',\n",
    "    'c': '110000',\n",
    "    'd': '110100',\n",
    "    'e': '100100',\n",
    "    'f': '111000',\n",
    "    'g': '111100',\n",
    "    'h': '101100',\n",
    "    'i': '011000',\n",
    "    'j': '011100',\n",
    "    'k': '100010',\n",
    "    'l': '101010',\n",
    "    'm': '110010',\n",
    "    'n': '110110',\n",
    "    'o': '100110',\n",
    "    'p': '111010',\n",
    "    'q': '111110',\n",
    "    'r': '101110',\n",
    "    's': '011010',\n",
    "    't': '011110',\n",
    "    'u': '100011',\n",
    "    'v': '101011',\n",
    "    'w': '011101',\n",
    "    'x': '110011',\n",
    "    'y': '110111',\n",
    "    'z': '100111',\n",
    "    ' ': '000000',\n",
    "    '#': '010111',\n",
    "    '0': '011100',\n",
    "    '1': '100000',\n",
    "    '2': '101000',\n",
    "    '3': '110000',\n",
    "    '4': '110100',\n",
    "    '5': '100100',\n",
    "    '6': '111000',\n",
    "    '7': '111100',\n",
    "    '8': '101100',\n",
    "    '9': '011000'\n",
    "}"
   ]
  },
  {
   "cell_type": "markdown",
   "metadata": {},
   "source": [
    "Function converting text to braille"
   ]
  },
  {
   "cell_type": "code",
   "execution_count": null,
   "metadata": {},
   "outputs": [],
   "source": [
    "def convert_to_braille(text):\n",
    "    braille_text = ''\n",
    "    for char in text:\n",
    "        # Use the indicator for numbers if the character is a digit\n",
    "        if char.isdigit():\n",
    "            braille_text += braille_dict['#'] + ' ' + braille_dict.get(char.lower(), char)+ ' '\n",
    "            #print(braille_text)\n",
    "        else:\n",
    "            braille_text += braille_dict.get(char.lower(), char) + ' '\n",
    "            #print(braille_text)\n",
    "    return braille_text"
   ]
  },
  {
   "cell_type": "markdown",
   "metadata": {},
   "source": [
    "Function outputting the braille (converted text)"
   ]
  },
  {
   "cell_type": "code",
   "execution_count": null,
   "metadata": {},
   "outputs": [],
   "source": [
    "\n",
    "def show_braille_from_text(input_text):\n",
    "    braille_text = convert_to_braille(input_text)\n",
    "    z=1\n",
    "    for braille_char in braille_text.split():\n",
    "        if z==9:\n",
    "            z=1\n",
    "            time.sleep(5)\n",
    "        display_braille(braille_char,z)\n",
    "        time.sleep(0.1)\n",
    "       #print(z)\n",
    "        z += 1"
   ]
  },
  {
   "cell_type": "code",
   "execution_count": null,
   "metadata": {},
   "outputs": [],
   "source": [
    "# def show_braille_from_text(input_text):\n",
    "#     braille_text = convert_to_braille(input_text)\n",
    "#     length=int(len(braille_text)/7)\n",
    "#     print(length)\n",
    "\n",
    "#     for i in range(0, len(braille_text), 50):\n",
    "#         display_braille(braille_text[i:i+50])\n",
    "#         time.sleep(0.5)\n"
   ]
  },
  {
   "cell_type": "markdown",
   "metadata": {},
   "source": [
    "Function outputting the braille (converted image)"
   ]
  },
  {
   "cell_type": "code",
   "execution_count": null,
   "metadata": {},
   "outputs": [],
   "source": [
    "def show_braille_from_camera():\n",
    "    # cap = cv2.VideoCapture(0)  # Use the default camera (you may need to change this)\n",
    "    frame=cv2.imread('/Users/kanjisugimori/Documents/VS_Code/Book.png')\n",
    "    while True:\n",
    "        # ret, frame = cap.read()\n",
    "        # if not ret:\n",
    "        #     break\n",
    "\n",
    "        gray = cv2.cvtColor(frame, cv2.COLOR_BGR2GRAY)\n",
    "        text = pytesseract.image_to_string(gray)\n",
    "        cv2.imshow(\"Camera\", frame)\n",
    "        \n",
    "        print(text)\n",
    "\n",
    "        if text:\n",
    "            show_braille_from_text(text)\n",
    "            \n",
    "        cv2.destroyAllWindows()\n",
    "        break\n",
    "\n",
    "    # cap.release()\n",
    "    "
   ]
  },
  {
   "cell_type": "code",
   "execution_count": null,
   "metadata": {},
   "outputs": [],
   "source": [
    "def display_braille(braille_pattern,z):\n",
    "    # Create a blank image\n",
    "    global global_img\n",
    "\n",
    "    # Create a blank image if it's the first iteration\n",
    "    if z == 1 or global_img is None:\n",
    "        global_img = Image.new('1', (1200, 160), color=255)\n",
    "\n",
    "    # Get the pixels of the global image\n",
    "    pixels = global_img.load()\n",
    "\n",
    "    # Fill the image based on Braille pattern\n",
    "    for i in range(3):\n",
    "        for j in range(2):\n",
    "            index = i * 2 + j\n",
    "            if index < len(braille_pattern) and braille_pattern[index] == '1':\n",
    "                for x in range(40):\n",
    "                    for y in range(40):\n",
    "                        if (x - 20) ** 2 + (y - 20) ** 2 <= 400:\n",
    "                            pixels[j * 60 + x +150*(z-1), i * 60 + y] = 0\n",
    "\n",
    "    # Convert the image to PhotoImage format for displaying in Tkinter\n",
    "    img_tk = ImageTk.PhotoImage(global_img)\n",
    "    braille_label.config(image=img_tk)\n",
    "    braille_label.image = img_tk\n",
    "    root.update()"
   ]
  },
  {
   "cell_type": "code",
   "execution_count": null,
   "metadata": {},
   "outputs": [],
   "source": [
    "# Create the main window\n",
    "root = tk.Tk()\n",
    "root.title(\"Braille Converter\")\n",
    "\n",
    "# Entry widget for user input\n",
    "entry = tk.Entry(root, width=30)\n",
    "entry.pack(pady=10)\n",
    "\n",
    "# Button to trigger conversion from text\n",
    "convert_text_button = tk.Button(root, text=\"Convert from Text\", command=lambda: show_braille_from_text(entry.get()))\n",
    "convert_text_button.pack(pady=10)\n",
    "\n",
    "# Button to trigger conversion from camera\n",
    "convert_camera_button = tk.Button(root, text=\"Convert from Camera\", command=show_braille_from_camera)\n",
    "convert_camera_button.pack(pady=10)\n",
    "\n",
    "# Label to display Braille patterns\n",
    "braille_label = tk.Label(root, image=None)\n",
    "braille_label.pack(pady=10)\n",
    "\n",
    "# Run the main loop\n",
    "root.mainloop()"
   ]
  }
 ],
 "metadata": {
  "kernelspec": {
   "display_name": "Python 3",
   "language": "python",
   "name": "python3"
  },
  "language_info": {
   "codemirror_mode": {
    "name": "ipython",
    "version": 3
   },
   "file_extension": ".py",
   "mimetype": "text/x-python",
   "name": "python",
   "nbconvert_exporter": "python",
   "pygments_lexer": "ipython3",
   "version": "3.12.0"
  }
 },
 "nbformat": 4,
 "nbformat_minor": 2
}

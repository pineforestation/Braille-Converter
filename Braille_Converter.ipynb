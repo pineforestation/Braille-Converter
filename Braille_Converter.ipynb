{
 "cells": [
  {
   "cell_type": "markdown",
   "metadata": {},
   "source": [
    "Loading the necessary libraries"
   ]
  },
  {
   "cell_type": "code",
   "execution_count": 29,
   "metadata": {},
   "outputs": [],
   "source": [
    "import tkinter as tk\n",
    "from PIL import Image, ImageTk\n",
    "import cv2\n",
    "import pytesseract\n",
    "import time"
   ]
  },
  {
   "cell_type": "markdown",
   "metadata": {},
   "source": [
    "Defining the braille shapes for each letter/number/space"
   ]
  },
  {
   "cell_type": "code",
   "execution_count": 30,
   "metadata": {},
   "outputs": [],
   "source": [
    "# Braille dictionary mapping each letter to its Braille representation\n",
    "braille_dict = {\n",
    "    'a': '100000',\n",
    "    'b': '101000',\n",
    "    'c': '110000',\n",
    "    'd': '110100',\n",
    "    'e': '100100',\n",
    "    'f': '111000',\n",
    "    'g': '111100',\n",
    "    'h': '101100',\n",
    "    'i': '011000',\n",
    "    'j': '011100',\n",
    "    'k': '100010',\n",
    "    'l': '101010',\n",
    "    'm': '110010',\n",
    "    'n': '110110',\n",
    "    'o': '100110',\n",
    "    'p': '111010',\n",
    "    'q': '111110',\n",
    "    'r': '101110',\n",
    "    's': '011010',\n",
    "    't': '011110',\n",
    "    'u': '100011',\n",
    "    'v': '101011',\n",
    "    'w': '011101',\n",
    "    'x': '110011',\n",
    "    'y': '110111',\n",
    "    'z': '100111',\n",
    "    ' ': '000000',\n",
    "    '0': '001111',\n",
    "    '1': '100000',\n",
    "    '2': '101000',\n",
    "    '3': '110000',\n",
    "    '4': '110100',\n",
    "    '5': '100100',\n",
    "    '6': '111000',\n",
    "    '7': '111100',\n",
    "    '8': '101100',\n",
    "    '9': '011000'\n",
    "}"
   ]
  },
  {
   "cell_type": "markdown",
   "metadata": {},
   "source": [
    "Function converting text to braille"
   ]
  },
  {
   "cell_type": "code",
   "execution_count": 31,
   "metadata": {},
   "outputs": [],
   "source": [
    "def convert_to_braille(text):\n",
    "    braille_text = ''\n",
    "    for char in text:\n",
    "        braille_text += braille_dict.get(char.lower(), char) + ' '\n",
    "    return braille_text"
   ]
  },
  {
   "cell_type": "markdown",
   "metadata": {},
   "source": [
    "Function outputting the braille (converted text)"
   ]
  },
  {
   "cell_type": "code",
   "execution_count": 32,
   "metadata": {},
   "outputs": [],
   "source": [
    "\n",
    "def show_braille_from_text(input_text):\n",
    "    braille_text = convert_to_braille(input_text)\n",
    "\n",
    "    for braille_char in braille_text.split():\n",
    "        display_braille(braille_char)\n",
    "        time.sleep(0.1)"
   ]
  },
  {
   "cell_type": "markdown",
   "metadata": {},
   "source": [
    "Function outputting the braille (converted image)"
   ]
  },
  {
   "cell_type": "code",
   "execution_count": 37,
   "metadata": {},
   "outputs": [],
   "source": [
    "def show_braille_from_camera():\n",
    "    # cap = cv2.VideoCapture(0)  # Use the default camera (you may need to change this)\n",
    "    frame=cv2.imread('/Users/kanjisugimori/Documents/VS_Code/Book.png')\n",
    "    while True:\n",
    "        # ret, frame = cap.read()\n",
    "        # if not ret:\n",
    "        #     break\n",
    "\n",
    "        gray = cv2.cvtColor(frame, cv2.COLOR_BGR2GRAY)\n",
    "        text = pytesseract.image_to_string(gray)\n",
    "        cv2.imshow(\"Camera\", frame)\n",
    "        print(text)\n",
    "\n",
    "        if text:\n",
    "            show_braille_from_text(text)\n",
    "        break\n",
    "\n",
    "    # cap.release()\n",
    "    cv2.destroyAllWindows()"
   ]
  },
  {
   "cell_type": "code",
   "execution_count": 34,
   "metadata": {},
   "outputs": [],
   "source": [
    "def display_braille(braille_pattern):\n",
    "    # Create a blank image\n",
    "    img = Image.new('1', (100, 160), color=255)\n",
    "    pixels = img.load()\n",
    "\n",
    "    # Fill the image based on Braille pattern\n",
    "    for i in range(3):\n",
    "        for j in range(2):\n",
    "            index = i * 2 + j\n",
    "            if index < len(braille_pattern) and braille_pattern[index] == '1':\n",
    "                for x in range(40):\n",
    "                    for y in range(40):\n",
    "                        if (x - 20) ** 2 + (y - 20) ** 2 <= 400:\n",
    "                            pixels[j * 60 + x, i * 60 + y] = 0\n",
    "\n",
    "    # Convert the image to PhotoImage format for displaying in Tkinter\n",
    "    img_tk = ImageTk.PhotoImage(img)\n",
    "    braille_label.config(image=img_tk)\n",
    "    braille_label.image = img_tk\n",
    "    root.update()"
   ]
  },
  {
   "cell_type": "code",
   "execution_count": 38,
   "metadata": {},
   "outputs": [
    {
     "name": "stdout",
     "output_type": "stream",
     "text": [
      "Who? What? Why?\n",
      "\n",
      "We want to create a tool to help the visually impaired. The current braille system\n",
      "requires people to physically punch holes into paper, or buy braille books from\n",
      "third parties to use. We want to create an amazon kindle-like device that allows\n",
      "users to carry around different braille books/text in a single device.\n",
      "\n",
      "What do we want to simulate?\n",
      "\n",
      "We will create a simulated braille device, which will convert text into braille and\n",
      "output it as braille dots on the screen. We also want the simulation to have a\n",
      "computer vision component where we will use OpenCV to scan images]\n",
      "\n",
      "Who? What? Why?\n",
      "\n",
      "We want to create a tool to help the visually impaired. The current braille system\n",
      "requires people to physically punch holes into paper, or buy braille books from\n",
      "third parties to use. We want to create an amazon kindle-like device that allows\n",
      "users to carry around different braille books/text in a single device.\n",
      "\n",
      "What do we want to simulate?\n",
      "\n",
      "We will create a simulated braille device, which will convert text into braille and\n",
      "output it as braille dots on the screen. We also want the simulation to have a\n",
      "computer vision component where we will use OpenCV to scan images]\n",
      "\n"
     ]
    },
    {
     "name": "stderr",
     "output_type": "stream",
     "text": [
      "Exception in Tkinter callback\n",
      "Exception ignored in: <function PhotoImage.__del__ at 0x1189cdda0>\n",
      "Traceback (most recent call last):\n",
      "  File \"/Users/kanjisugimori/anaconda3/envs/braille/lib/python3.12/site-packages/PIL/ImageTk.py\", line 131, in __del__\n",
      "    name = self.__photo.name\n",
      "           ^^^^^^^^^^^^\n",
      "AttributeError: 'PhotoImage' object has no attribute '_PhotoImage__photo'\n",
      "Traceback (most recent call last):\n",
      "  File \"/Users/kanjisugimori/anaconda3/envs/braille/lib/python3.12/tkinter/__init__.py\", line 1948, in __call__\n",
      "    return self.func(*args)\n",
      "           ^^^^^^^^^^^^^^^^\n",
      "  File \"/var/folders/t4/221ldxxj7c74q2ybf4__xx740000gn/T/ipykernel_57944/1761209908.py\", line 15, in show_braille_from_camera\n",
      "    show_braille_from_text(text)\n",
      "  File \"/var/folders/t4/221ldxxj7c74q2ybf4__xx740000gn/T/ipykernel_57944/3887183158.py\", line 5, in show_braille_from_text\n",
      "    display_braille(braille_char)\n",
      "  File \"/var/folders/t4/221ldxxj7c74q2ybf4__xx740000gn/T/ipykernel_57944/970744978.py\", line 17, in display_braille\n",
      "    img_tk = ImageTk.PhotoImage(img)\n",
      "             ^^^^^^^^^^^^^^^^^^^^^^^\n",
      "  File \"/Users/kanjisugimori/anaconda3/envs/braille/lib/python3.12/site-packages/PIL/ImageTk.py\", line 125, in __init__\n",
      "    self.__photo = tkinter.PhotoImage(**kw)\n",
      "                   ^^^^^^^^^^^^^^^^^^^^^^^^\n",
      "  File \"/Users/kanjisugimori/anaconda3/envs/braille/lib/python3.12/tkinter/__init__.py\", line 4126, in __init__\n",
      "    Image.__init__(self, 'photo', name, cnf, master, **kw)\n",
      "  File \"/Users/kanjisugimori/anaconda3/envs/braille/lib/python3.12/tkinter/__init__.py\", line 4063, in __init__\n",
      "    master = _get_default_root('create image')\n",
      "             ^^^^^^^^^^^^^^^^^^^^^^^^^^^^^^^^^\n",
      "  File \"/Users/kanjisugimori/anaconda3/envs/braille/lib/python3.12/tkinter/__init__.py\", line 319, in _get_default_root\n",
      "    raise RuntimeError(f\"Too early to {what}: no default root window\")\n",
      "RuntimeError: Too early to create image: no default root window\n",
      "Exception in Tkinter callback\n",
      "Exception ignored in: <function PhotoImage.__del__ at 0x1189cdda0>\n",
      "Traceback (most recent call last):\n",
      "  File \"/Users/kanjisugimori/anaconda3/envs/braille/lib/python3.12/site-packages/PIL/ImageTk.py\", line 131, in __del__\n",
      "    name = self.__photo.name\n",
      "           ^^^^^^^^^^^^\n",
      "AttributeError: 'PhotoImage' object has no attribute '_PhotoImage__photo'\n",
      "Traceback (most recent call last):\n",
      "  File \"/Users/kanjisugimori/anaconda3/envs/braille/lib/python3.12/tkinter/__init__.py\", line 1948, in __call__\n",
      "    return self.func(*args)\n",
      "           ^^^^^^^^^^^^^^^^\n",
      "  File \"/var/folders/t4/221ldxxj7c74q2ybf4__xx740000gn/T/ipykernel_57944/1761209908.py\", line 15, in show_braille_from_camera\n",
      "    show_braille_from_text(text)\n",
      "  File \"/var/folders/t4/221ldxxj7c74q2ybf4__xx740000gn/T/ipykernel_57944/3887183158.py\", line 5, in show_braille_from_text\n",
      "    display_braille(braille_char)\n",
      "  File \"/var/folders/t4/221ldxxj7c74q2ybf4__xx740000gn/T/ipykernel_57944/970744978.py\", line 17, in display_braille\n",
      "    img_tk = ImageTk.PhotoImage(img)\n",
      "             ^^^^^^^^^^^^^^^^^^^^^^^\n",
      "  File \"/Users/kanjisugimori/anaconda3/envs/braille/lib/python3.12/site-packages/PIL/ImageTk.py\", line 125, in __init__\n",
      "    self.__photo = tkinter.PhotoImage(**kw)\n",
      "                   ^^^^^^^^^^^^^^^^^^^^^^^^\n",
      "  File \"/Users/kanjisugimori/anaconda3/envs/braille/lib/python3.12/tkinter/__init__.py\", line 4126, in __init__\n",
      "    Image.__init__(self, 'photo', name, cnf, master, **kw)\n",
      "  File \"/Users/kanjisugimori/anaconda3/envs/braille/lib/python3.12/tkinter/__init__.py\", line 4063, in __init__\n",
      "    master = _get_default_root('create image')\n",
      "             ^^^^^^^^^^^^^^^^^^^^^^^^^^^^^^^^^\n",
      "  File \"/Users/kanjisugimori/anaconda3/envs/braille/lib/python3.12/tkinter/__init__.py\", line 319, in _get_default_root\n",
      "    raise RuntimeError(f\"Too early to {what}: no default root window\")\n",
      "RuntimeError: Too early to create image: no default root window\n"
     ]
    }
   ],
   "source": [
    "# Create the main window\n",
    "root = tk.Tk()\n",
    "root.title(\"Braille Converter\")\n",
    "\n",
    "# Entry widget for user input\n",
    "entry = tk.Entry(root, width=30)\n",
    "entry.pack(pady=10)\n",
    "\n",
    "# Button to trigger conversion from text\n",
    "convert_text_button = tk.Button(root, text=\"Convert from Text\", command=lambda: show_braille_from_text(entry.get()))\n",
    "convert_text_button.pack(pady=10)\n",
    "\n",
    "# Button to trigger conversion from camera\n",
    "convert_camera_button = tk.Button(root, text=\"Convert from Camera\", command=show_braille_from_camera)\n",
    "convert_camera_button.pack(pady=10)\n",
    "\n",
    "# Label to display Braille patterns\n",
    "braille_label = tk.Label(root, image=None)\n",
    "braille_label.pack(pady=10)\n",
    "\n",
    "# Run the main loop\n",
    "root.mainloop()"
   ]
  }
 ],
 "metadata": {
  "kernelspec": {
   "display_name": "Python 3",
   "language": "python",
   "name": "python3"
  },
  "language_info": {
   "codemirror_mode": {
    "name": "ipython",
    "version": 3
   },
   "file_extension": ".py",
   "mimetype": "text/x-python",
   "name": "python",
   "nbconvert_exporter": "python",
   "pygments_lexer": "ipython3",
   "version": "3.12.0"
  }
 },
 "nbformat": 4,
 "nbformat_minor": 2
}
